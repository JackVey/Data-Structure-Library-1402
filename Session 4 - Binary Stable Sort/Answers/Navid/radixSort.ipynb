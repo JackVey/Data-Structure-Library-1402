{
 "cells": [
  {
   "cell_type": "markdown",
   "metadata": {},
   "source": [
    "# navid ebadi\n",
    "# 401222093\n",
    "##### cpu = core i7 12650H @2.3 GHz\n",
    "##### cores = 2\n",
    "##### os = windows 10\n",
    "##### implementation = python 3.8.2\n",
    "##### unit of measure = ms"
   ]
  },
  {
   "cell_type": "code",
   "execution_count": 1,
   "metadata": {},
   "outputs": [
    {
     "name": "stdout",
     "output_type": "stream",
     "text": [
      "---Random 0.6876497268676758 seconds ---\n",
      "---Random 1.4538648128509521 seconds ---\n",
      "---Random 2.190788507461548 seconds ---\n",
      "---Random 3.027009963989258 seconds ---\n",
      "---Random 3.9426589012145996 seconds ---\n",
      "---Random 4.708486080169678 seconds ---\n",
      "---Random 5.696828126907349 seconds ---\n",
      "---Random 6.477796316146851 seconds ---\n",
      "---Random 7.311195611953735 seconds ---\n",
      "---Random 8.228030920028687 seconds ---\n"
     ]
    },
    {
     "data": {
      "image/png": "[encoded data removed]",
      "text/plain": [
       "<Figure size 432x288 with 1 Axes>"
      ]
     },
     "metadata": {
      "needs_background": "light"
     },
     "output_type": "display_data"
    }
   ],
   "source": [
    "import random\n",
    "import time\n",
    "import matplotlib.pyplot as plt\n",
    "\n",
    "def randList(seed, n):\n",
    "  random.seed(seed)\n",
    "  return [random.randint(0,1000) for x in range(n)]\n",
    "\n",
    "\n",
    "def BlockSwap(A, p, q):\n",
    "    for i in range(0, q-p):\n",
    "        (A[p+i], A[q+i]) = (A[q+i], A[p+i])\n",
    "\n",
    "\n",
    "def StableRBA(A, p, q, r):\n",
    "    n0 = r-q\n",
    "    n1 = q-p\n",
    "    if n1 == 0:\n",
    "        return r\n",
    "    while n0 > 0:\n",
    "        if n1 > n0:\n",
    "            p = q-n0\n",
    "            BlockSwap(A, p, q)\n",
    "            n1 = n1-n0\n",
    "            q = p\n",
    "            p = p-n1\n",
    "        else:\n",
    "            BlockSwap(A, p, q)\n",
    "            n0 = n0-n1\n",
    "            p = q\n",
    "            q = q+n1\n",
    "    return p\n",
    "\n",
    "\n",
    "def BinaryStableSort(A, p, r):\n",
    "    if r-p > 1:\n",
    "        q = (p+r)//2\n",
    "        p = BinaryStableSort(A, p, q)\n",
    "        r = BinaryStableSort(A, q, r)\n",
    "        p = StableRBA(A, p, q, r)\n",
    "    elif radixkey(A[p])==0 :\n",
    "        return r\n",
    "    return p\n",
    "\n",
    "\n",
    "mask = 1\n",
    "def radixkey(x):\n",
    "    return x & mask\n",
    "\n",
    "def inplaceRadixSort(x, n):\n",
    "    global mask\n",
    "    mask = 1\n",
    "    for _ in range(32):\n",
    "        BinaryStableSort(x, 0, n)\n",
    "        mask <<= 1\n",
    "\n",
    "\n",
    "A = randList(1401, 10000)\n",
    "\n",
    "\n",
    "\n",
    "times_ran = []\n",
    "num_r = []\n",
    "for i in range (10000,100001,10000):\n",
    "\n",
    "  num_r.append(i)\n",
    "\n",
    "  data = randList(1401,i)\n",
    "  size = len(data)\n",
    "  start_time=time.time()\n",
    "  inplaceRadixSort(data , len(data))\n",
    "  t = time.time() - start_time\n",
    "  print(\"---Random %s seconds ---\" % (t))\n",
    "\n",
    "  times_ran.append(t)\n",
    "\n",
    "plt.plot(num_r, times_ran, marker='o', linestyle='-')\n",
    "    \n",
    "# Add labels and a title\n",
    "plt.xlabel('n-size of input')\n",
    "plt.ylabel('time taken(in seconds)')\n",
    "plt.title('Running time for random-case scenario of Insertion Sort')\n",
    "    \n",
    "# Show the\n",
    "plt.show()"
   ]
  }
 ],
 "metadata": {
  "kernelspec": {
   "display_name": "Python 3",
   "language": "python",
   "name": "python3"
  },
  "language_info": {
   "codemirror_mode": {
    "name": "ipython",
    "version": 3
   },
   "file_extension": ".py",
   "mimetype": "text/x-python",
   "name": "python",
   "nbconvert_exporter": "python",
   "pygments_lexer": "ipython3",
   "version": "3.8.2"
  }
 },
 "nbformat": 4,
 "nbformat_minor": 2
}
